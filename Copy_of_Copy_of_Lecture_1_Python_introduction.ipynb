{
  "nbformat": 4,
  "nbformat_minor": 0,
  "metadata": {
    "colab": {
      "provenance": [],
      "include_colab_link": true
    },
    "kernelspec": {
      "name": "python3",
      "display_name": "Python 3"
    },
    "language_info": {
      "name": "python"
    }
  },
  "cells": [
    {
      "cell_type": "markdown",
      "metadata": {
        "id": "view-in-github",
        "colab_type": "text"
      },
      "source": [
        "<a href=\"https://colab.research.google.com/github/KevinHoag/Exercises-INT3405E-20/blob/main/Copy_of_Copy_of_Lecture_1_Python_introduction.ipynb\" target=\"_parent\"><img src=\"https://colab.research.google.com/assets/colab-badge.svg\" alt=\"Open In Colab\"/></a>"
      ]
    },
    {
      "cell_type": "markdown",
      "source": [
        "#Python basic"
      ],
      "metadata": {
        "id": "690tv4IrGrm5"
      }
    },
    {
      "cell_type": "markdown",
      "source": [
        "## Data types, basic operation"
      ],
      "metadata": {
        "id": "ZR03C7DIHB4j"
      }
    },
    {
      "cell_type": "markdown",
      "source": [
        "## Int"
      ],
      "metadata": {
        "id": "ZtlWkoxKKhol"
      }
    },
    {
      "cell_type": "code",
      "source": [
        "# int\n",
        "x = 12\n",
        "type(x)"
      ],
      "metadata": {
        "colab": {
          "base_uri": "https://localhost:8080/"
        },
        "id": "qoCU0fzcGvkP",
        "outputId": "c3b05e10-f5ae-4bb1-8019-9cf289296f60"
      },
      "execution_count": null,
      "outputs": [
        {
          "output_type": "execute_result",
          "data": {
            "text/plain": [
              "int"
            ]
          },
          "metadata": {},
          "execution_count": 1
        }
      ]
    },
    {
      "cell_type": "code",
      "source": [
        "print('Cộng', x + 2)\n",
        "print('Nhân', x * 2)\n",
        "print('Mũ', x ** 2)\n",
        "print('Phần dư', x % 5)"
      ],
      "metadata": {
        "colab": {
          "base_uri": "https://localhost:8080/"
        },
        "id": "w6zmmZZkM1FT",
        "outputId": "30a8e1c8-7b00-4882-ae53-6010b5adf68a"
      },
      "execution_count": null,
      "outputs": [
        {
          "output_type": "stream",
          "name": "stdout",
          "text": [
            "Cộng 14\n",
            "Nhân 24\n",
            "Mũ 144\n",
            "Phần dư 2\n"
          ]
        }
      ]
    },
    {
      "cell_type": "markdown",
      "source": [
        "## Float"
      ],
      "metadata": {
        "id": "BX2ROksmRlx0"
      }
    },
    {
      "cell_type": "code",
      "source": [
        "x = 2.5\n",
        "print(type(x))"
      ],
      "metadata": {
        "colab": {
          "base_uri": "https://localhost:8080/"
        },
        "id": "dYrFhVfXRpsX",
        "outputId": "e52f5d28-4baf-4c6b-86b2-88da0897f03a"
      },
      "execution_count": null,
      "outputs": [
        {
          "output_type": "stream",
          "name": "stdout",
          "text": [
            "<class 'float'>\n"
          ]
        }
      ]
    },
    {
      "cell_type": "code",
      "source": [
        "x*12"
      ],
      "metadata": {
        "colab": {
          "base_uri": "https://localhost:8080/"
        },
        "id": "pobTFNXuRvi_",
        "outputId": "0d824558-94c7-4af5-db49-5fb6cf6fb60b"
      },
      "execution_count": null,
      "outputs": [
        {
          "output_type": "execute_result",
          "data": {
            "text/plain": [
              "30.0"
            ]
          },
          "metadata": {},
          "execution_count": 2
        }
      ]
    },
    {
      "cell_type": "markdown",
      "source": [
        "## String"
      ],
      "metadata": {
        "id": "qkERA3wtKnQk"
      }
    },
    {
      "cell_type": "code",
      "source": [
        "# string\n",
        "y = 'Today is Thursday'\n",
        "type(y)"
      ],
      "metadata": {
        "colab": {
          "base_uri": "https://localhost:8080/"
        },
        "id": "E4yiXU4nHIl2",
        "outputId": "86e70000-1a10-42ba-9017-ac968f6db022"
      },
      "execution_count": null,
      "outputs": [
        {
          "output_type": "execute_result",
          "data": {
            "text/plain": [
              "str"
            ]
          },
          "metadata": {},
          "execution_count": 3
        }
      ]
    },
    {
      "cell_type": "code",
      "source": [
        "print(y[0])     # get first character of string y\n",
        "print(y[0:5])   # get first 5 character"
      ],
      "metadata": {
        "colab": {
          "base_uri": "https://localhost:8080/"
        },
        "id": "tQlxqc4CKMCQ",
        "outputId": "f79e39cd-692f-44b6-f6f9-91afa0e3605c"
      },
      "execution_count": null,
      "outputs": [
        {
          "output_type": "stream",
          "name": "stdout",
          "text": [
            "T\n",
            "Today\n"
          ]
        }
      ]
    },
    {
      "cell_type": "code",
      "source": [
        "# Broadcast data type\n",
        "x = '5'\n",
        "y = int(x)\n",
        "print(type(x), x)\n",
        "print(type(y), y)"
      ],
      "metadata": {
        "colab": {
          "base_uri": "https://localhost:8080/"
        },
        "id": "cEvu2eiBHPv7",
        "outputId": "69a142e7-72ef-4e80-f720-d0d596ef7d26"
      },
      "execution_count": null,
      "outputs": [
        {
          "output_type": "stream",
          "name": "stdout",
          "text": [
            "<class 'str'> 5\n",
            "<class 'int'> 5\n"
          ]
        }
      ]
    },
    {
      "cell_type": "markdown",
      "source": [
        "## List (mảng)"
      ],
      "metadata": {
        "id": "WeE_-qeVKqxZ"
      }
    },
    {
      "cell_type": "code",
      "source": [
        "# List\n",
        "arr = [1,2,3,4,5]\n",
        "print(type(arr))\n",
        "arr"
      ],
      "metadata": {
        "colab": {
          "base_uri": "https://localhost:8080/"
        },
        "id": "ZXxDtNzWHVyT",
        "outputId": "78d70779-2e87-4367-b62e-c3e238ef5122"
      },
      "execution_count": null,
      "outputs": [
        {
          "output_type": "stream",
          "name": "stdout",
          "text": [
            "<class 'list'>\n"
          ]
        },
        {
          "output_type": "execute_result",
          "data": {
            "text/plain": [
              "[1, 2, 3, 4, 5]"
            ]
          },
          "metadata": {},
          "execution_count": 10
        }
      ]
    },
    {
      "cell_type": "markdown",
      "source": [
        "The index of array start from 0"
      ],
      "metadata": {
        "id": "gkepzdeNTius"
      }
    },
    {
      "cell_type": "code",
      "source": [
        "arr[3] # Get the third element of array"
      ],
      "metadata": {
        "colab": {
          "base_uri": "https://localhost:8080/"
        },
        "id": "4A2QNiE3Jgzo",
        "outputId": "385f69a1-e1d3-4e28-ec59-110c22a19374"
      },
      "execution_count": null,
      "outputs": [
        {
          "output_type": "execute_result",
          "data": {
            "text/plain": [
              "4"
            ]
          },
          "metadata": {},
          "execution_count": 14
        }
      ]
    },
    {
      "cell_type": "code",
      "source": [
        "start = 1\n",
        "end = 4\n",
        "arr[start:end]"
      ],
      "metadata": {
        "colab": {
          "base_uri": "https://localhost:8080/"
        },
        "id": "rA5uyao5KvuT",
        "outputId": "0bdab5b5-24e4-4a31-cfbb-8f2790c029d8"
      },
      "execution_count": null,
      "outputs": [
        {
          "output_type": "execute_result",
          "data": {
            "text/plain": [
              "[2, 3, 4]"
            ]
          },
          "metadata": {},
          "execution_count": 33
        }
      ]
    },
    {
      "cell_type": "code",
      "source": [
        "arr[start:]"
      ],
      "metadata": {
        "colab": {
          "base_uri": "https://localhost:8080/"
        },
        "id": "k2AA7nmvLaGn",
        "outputId": "4d1a82df-f1e1-4d08-9f35-0f3ce9ca9ab8"
      },
      "execution_count": null,
      "outputs": [
        {
          "output_type": "execute_result",
          "data": {
            "text/plain": [
              "[2, 3, 4, 5]"
            ]
          },
          "metadata": {},
          "execution_count": 38
        }
      ]
    },
    {
      "cell_type": "code",
      "source": [
        "arr[:end]"
      ],
      "metadata": {
        "colab": {
          "base_uri": "https://localhost:8080/"
        },
        "id": "bhiJkqUJLS-_",
        "outputId": "f85f729d-87b4-43be-c3ac-a2b40e87d8f4"
      },
      "execution_count": null,
      "outputs": [
        {
          "output_type": "execute_result",
          "data": {
            "text/plain": [
              "[1, 2, 3, 4]"
            ]
          },
          "metadata": {},
          "execution_count": 37
        }
      ]
    },
    {
      "cell_type": "code",
      "source": [
        "# add element\n",
        "arr.append(12)\n",
        "arr"
      ],
      "metadata": {
        "colab": {
          "base_uri": "https://localhost:8080/"
        },
        "id": "Gm6a7QukQqoN",
        "outputId": "ac7a43dc-0599-44f2-b873-191943939653"
      },
      "execution_count": null,
      "outputs": [
        {
          "output_type": "execute_result",
          "data": {
            "text/plain": [
              "[1, 2, 3, 4, 5, 12]"
            ]
          },
          "metadata": {},
          "execution_count": 13
        }
      ]
    },
    {
      "cell_type": "markdown",
      "source": [
        "### List with multiple data types"
      ],
      "metadata": {
        "id": "4f6luUNrTaTL"
      }
    },
    {
      "cell_type": "code",
      "source": [
        "arr = [123, 'abc', -12, 'def', 12.4]\n",
        "arr"
      ],
      "metadata": {
        "colab": {
          "base_uri": "https://localhost:8080/"
        },
        "id": "h6qdbZCSTeW_",
        "outputId": "5a4a346a-f7bc-4ba6-ace3-585c26fa5b64"
      },
      "execution_count": null,
      "outputs": [
        {
          "output_type": "execute_result",
          "data": {
            "text/plain": [
              "[123, 'abc', -12, 'def', 12.4]"
            ]
          },
          "metadata": {},
          "execution_count": 7
        }
      ]
    },
    {
      "cell_type": "code",
      "source": [
        "x = arr[3]\n",
        "x"
      ],
      "metadata": {
        "colab": {
          "base_uri": "https://localhost:8080/",
          "height": 36
        },
        "id": "g2R-THl2TzYc",
        "outputId": "281facda-c3d3-4426-c5ed-dcdc6162c551"
      },
      "execution_count": null,
      "outputs": [
        {
          "output_type": "execute_result",
          "data": {
            "text/plain": [
              "'def'"
            ],
            "application/vnd.google.colaboratory.intrinsic+json": {
              "type": "string"
            }
          },
          "metadata": {},
          "execution_count": 10
        }
      ]
    },
    {
      "cell_type": "markdown",
      "source": [
        "## Dictionary (key-value)"
      ],
      "metadata": {
        "id": "_G-hfAl9Kwny"
      }
    },
    {
      "cell_type": "markdown",
      "source": [
        "Dictionaries are used to store data values in \"key:value\" pairs"
      ],
      "metadata": {
        "id": "o_9FUv2MUKB3"
      }
    },
    {
      "cell_type": "code",
      "source": [
        "mydict = { 'motor': 123} # key: 'motor', value: 123\n",
        "mydict"
      ],
      "metadata": {
        "id": "SHRMDpE7APKI",
        "colab": {
          "base_uri": "https://localhost:8080/"
        },
        "outputId": "c10e790c-6a91-4ed8-c93f-346a7fa081df"
      },
      "execution_count": null,
      "outputs": [
        {
          "output_type": "execute_result",
          "data": {
            "text/plain": [
              "{'motor': 123}"
            ]
          },
          "metadata": {},
          "execution_count": 12
        }
      ]
    },
    {
      "cell_type": "code",
      "source": [
        "# Dictionary (key-value)\n",
        "mydict = {'motor': 123,\n",
        "          'car': 872,\n",
        "          'plane': 222}\n",
        "print(type(mydict))"
      ],
      "metadata": {
        "colab": {
          "base_uri": "https://localhost:8080/"
        },
        "id": "rmOYX8EtH2Kg",
        "outputId": "9c7dc3a3-d1c5-49c7-8650-8217d35a3ccb"
      },
      "execution_count": null,
      "outputs": [
        {
          "output_type": "stream",
          "name": "stdout",
          "text": [
            "<class 'dict'>\n"
          ]
        }
      ]
    },
    {
      "cell_type": "code",
      "source": [
        "mydict.keys()"
      ],
      "metadata": {
        "colab": {
          "base_uri": "https://localhost:8080/"
        },
        "id": "L_mgktMyMcbd",
        "outputId": "3a1b6a19-57c0-4fc5-c800-cc4bc309866a"
      },
      "execution_count": null,
      "outputs": [
        {
          "output_type": "execute_result",
          "data": {
            "text/plain": [
              "dict_keys(['motor', 'car', 'plane'])"
            ]
          },
          "metadata": {},
          "execution_count": 40
        }
      ]
    },
    {
      "cell_type": "code",
      "source": [
        "mydict.values() # get all values in dictionary"
      ],
      "metadata": {
        "colab": {
          "base_uri": "https://localhost:8080/"
        },
        "id": "sX5rKn2GMeYp",
        "outputId": "bb7640d7-7817-44de-f924-e0a94d7bd5ab"
      },
      "execution_count": null,
      "outputs": [
        {
          "output_type": "execute_result",
          "data": {
            "text/plain": [
              "dict_values([123, 872, 222])"
            ]
          },
          "metadata": {},
          "execution_count": 41
        }
      ]
    },
    {
      "cell_type": "code",
      "source": [
        "mydict['motor'] # get value of dictionary with key= 'motor'"
      ],
      "metadata": {
        "colab": {
          "base_uri": "https://localhost:8080/"
        },
        "id": "KDtzNB5sMfzX",
        "outputId": "e0d792af-ea83-4fc6-8980-d680b47cbb78"
      },
      "execution_count": null,
      "outputs": [
        {
          "output_type": "execute_result",
          "data": {
            "text/plain": [
              "123"
            ]
          },
          "metadata": {},
          "execution_count": 42
        }
      ]
    },
    {
      "cell_type": "code",
      "source": [
        "# add new key\n",
        "mydict['ship'] = 412\n",
        "mydict"
      ],
      "metadata": {
        "colab": {
          "base_uri": "https://localhost:8080/"
        },
        "id": "TvIOmbZAMiyr",
        "outputId": "55a553c4-40ec-4106-bed3-64ebcd405531"
      },
      "execution_count": null,
      "outputs": [
        {
          "output_type": "execute_result",
          "data": {
            "text/plain": [
              "{'motor': 123, 'car': 872, 'plane': 222, 'ship': 412}"
            ]
          },
          "metadata": {},
          "execution_count": 55
        }
      ]
    },
    {
      "cell_type": "code",
      "source": [
        "# remove key\n",
        "mydict.pop('ship')\n",
        "mydict"
      ],
      "metadata": {
        "colab": {
          "base_uri": "https://localhost:8080/"
        },
        "id": "USfz-eSoPPNb",
        "outputId": "8811cf34-feb8-4bad-98c0-3e7f3212ba26"
      },
      "execution_count": null,
      "outputs": [
        {
          "output_type": "execute_result",
          "data": {
            "text/plain": [
              "{'motor': 123, 'car': 872, 'plane': 222}"
            ]
          },
          "metadata": {},
          "execution_count": 56
        }
      ]
    },
    {
      "cell_type": "markdown",
      "source": [
        "## For, while, if"
      ],
      "metadata": {
        "id": "M4Yx65YeIhly"
      }
    },
    {
      "cell_type": "markdown",
      "source": [
        "A for loop is used for iterating over a sequence (that is either a list, a tuple, a dictionary, a set, or a string).\n",
        "\n",
        "This is less like the for keyword in other programming languages, and works more like an iterator method as found in other object-orientated programming languages.\n",
        "\n",
        "With the for loop we can execute a set of statements, once for each item in a list, tuple, set etc."
      ],
      "metadata": {
        "id": "DXIsb0K_UrUL"
      }
    },
    {
      "cell_type": "code",
      "source": [
        "arr = [11,23,-5,5,1]\n",
        "\n",
        "# Loop over list\n",
        "for x in arr:\n",
        "    print(x)"
      ],
      "metadata": {
        "colab": {
          "base_uri": "https://localhost:8080/"
        },
        "id": "PoVRwsBRIpye",
        "outputId": "48904bd5-0b4f-438d-8831-34c9ffc6bbb1"
      },
      "execution_count": null,
      "outputs": [
        {
          "output_type": "stream",
          "name": "stdout",
          "text": [
            "11\n",
            "23\n",
            "-5\n",
            "5\n",
            "1\n"
          ]
        }
      ]
    },
    {
      "cell_type": "code",
      "source": [
        "# add element to list\n",
        "arr = []\n",
        "for i in range(100): # The range() function returns a sequence of numbers, starting from 0 by default, and increments by 1 (by default), and ends at a specified number\n",
        "    arr.append(i)\n",
        "print(arr)"
      ],
      "metadata": {
        "id": "sy9-dtu7B98Z"
      },
      "execution_count": null,
      "outputs": []
    },
    {
      "cell_type": "code",
      "source": [
        "# For with index and element of list\n",
        "for idx, x in enumerate(arr):\n",
        "    print('idx:', idx, 'x:', x)"
      ],
      "metadata": {
        "colab": {
          "base_uri": "https://localhost:8080/"
        },
        "id": "tl6-cWPgPqOp",
        "outputId": "bc815928-4ad7-425f-ef55-fa0ddc282297"
      },
      "execution_count": null,
      "outputs": [
        {
          "output_type": "stream",
          "name": "stdout",
          "text": [
            "idx: 0 x: 11\n",
            "idx: 1 x: 23\n",
            "idx: 2 x: -5\n",
            "idx: 3 x: 5\n",
            "idx: 4 x: 1\n"
          ]
        }
      ]
    },
    {
      "cell_type": "code",
      "source": [
        "print('mydict', mydict)\n",
        "\n",
        "# For with dictionary\n",
        "for key, value in mydict.items():\n",
        "    print(key, value)"
      ],
      "metadata": {
        "colab": {
          "base_uri": "https://localhost:8080/"
        },
        "id": "puH7JSMqPvUe",
        "outputId": "4a6d5c22-2af3-41b6-bcdb-33458c105b07"
      },
      "execution_count": null,
      "outputs": [
        {
          "output_type": "stream",
          "name": "stdout",
          "text": [
            "mydict {'motor': 123}\n",
            "motor 123\n"
          ]
        }
      ]
    },
    {
      "cell_type": "markdown",
      "source": [
        "## while"
      ],
      "metadata": {
        "id": "N6HtcDi0VuRj"
      }
    },
    {
      "cell_type": "markdown",
      "source": [
        "With the while loop we can execute a set of statements as long as a condition is true."
      ],
      "metadata": {
        "id": "3VGXBWsQVw-d"
      }
    },
    {
      "cell_type": "code",
      "source": [
        "# while\n",
        "i = 0\n",
        "while(i<5): # condition: i<5\n",
        "    print(i)\n",
        "    i = i+1"
      ],
      "metadata": {
        "id": "9J8Aen4dVysy"
      },
      "execution_count": null,
      "outputs": []
    },
    {
      "cell_type": "markdown",
      "source": [
        "### Continue, break"
      ],
      "metadata": {
        "id": "FRN5_IC6JR4D"
      }
    },
    {
      "cell_type": "markdown",
      "source": [
        "With the continue statement we can stop the current iteration of the loop, and continue with the next:"
      ],
      "metadata": {
        "id": "zXtYfOjVVexX"
      }
    },
    {
      "cell_type": "code",
      "source": [
        "# continue\n",
        "arr = [11,23,-5,5,1]\n",
        "for x in arr:\n",
        "    if x < 3:\n",
        "        continue\n",
        "    print(x)"
      ],
      "metadata": {
        "colab": {
          "base_uri": "https://localhost:8080/"
        },
        "id": "bg5dEIh-JH3S",
        "outputId": "49c096e7-81aa-44d7-918a-b5384641b3e7"
      },
      "execution_count": null,
      "outputs": [
        {
          "output_type": "stream",
          "name": "stdout",
          "text": [
            "11\n",
            "23\n",
            "5\n"
          ]
        }
      ]
    },
    {
      "cell_type": "markdown",
      "source": [
        "With the break statement we can stop the loop before it has looped through all the items:"
      ],
      "metadata": {
        "id": "BLbKfkzyVjOE"
      }
    },
    {
      "cell_type": "code",
      "source": [
        "# break\n",
        "arr = [11,23,-5,5,1]\n",
        "for x in arr:\n",
        "    if x < 3:\n",
        "        break\n",
        "    print(x)"
      ],
      "metadata": {
        "colab": {
          "base_uri": "https://localhost:8080/"
        },
        "id": "JST84kM2JYjU",
        "outputId": "75f2638d-49d6-4598-f5f7-23905d47b57c"
      },
      "execution_count": null,
      "outputs": [
        {
          "output_type": "stream",
          "name": "stdout",
          "text": [
            "11\n",
            "23\n"
          ]
        }
      ]
    },
    {
      "cell_type": "code",
      "source": [
        "# while + break\n",
        "i = 0\n",
        "while(True):\n",
        "    print(i)\n",
        "    if i>=5:\n",
        "        break\n",
        "    i+=1"
      ],
      "metadata": {
        "colab": {
          "base_uri": "https://localhost:8080/"
        },
        "id": "jiQ190vdJy6I",
        "outputId": "922daf57-1e3a-4316-f9c6-45f9c54a52fb"
      },
      "execution_count": null,
      "outputs": [
        {
          "output_type": "stream",
          "name": "stdout",
          "text": [
            "0\n",
            "1\n",
            "2\n",
            "3\n",
            "4\n",
            "5\n"
          ]
        }
      ]
    },
    {
      "cell_type": "markdown",
      "source": [
        "# Function, Class"
      ],
      "metadata": {
        "id": "Jwv8YQaBUB_M"
      }
    },
    {
      "cell_type": "markdown",
      "source": [
        "## Function"
      ],
      "metadata": {
        "id": "rJE6qRlrUm2U"
      }
    },
    {
      "cell_type": "markdown",
      "source": [
        "A function is a block of code which only runs when it is called.\n",
        "\n",
        "You can pass data, known as parameters, into a function.\n",
        "\n",
        "A function can return data as a result.\n",
        "\n",
        "In Python a function is defined using the `def` keyword:"
      ],
      "metadata": {
        "id": "lD2X9XYOWAQn"
      }
    },
    {
      "cell_type": "code",
      "source": [
        "def hello():\n",
        "    print('Hello World !!!')\n",
        "\n",
        "# To call a function, use the function name followed by parenthesis:\n",
        "hello()\n",
        "# print('x: ', x)"
      ],
      "metadata": {
        "colab": {
          "base_uri": "https://localhost:8080/"
        },
        "id": "yZn1cujmUIEz",
        "outputId": "22f1af67-0c98-4f59-e3ef-f69f0d0fa032"
      },
      "execution_count": null,
      "outputs": [
        {
          "output_type": "stream",
          "name": "stdout",
          "text": [
            "Hello World !!!\n"
          ]
        }
      ]
    },
    {
      "cell_type": "code",
      "source": [],
      "metadata": {
        "id": "tIzZdUsZWOL8"
      },
      "execution_count": null,
      "outputs": []
    },
    {
      "cell_type": "markdown",
      "source": [
        "Information can be passed into functions as arguments.\n",
        "\n",
        "Arguments are specified after the function name, inside the parentheses. You can add as many arguments as you want, just separate them with a comma.\n",
        "\n",
        "The following example has a function with two arguments (x, y). When the function is called, we pass along a,y and calculate sum of x and y"
      ],
      "metadata": {
        "id": "-BO0mPH9WOcr"
      }
    },
    {
      "cell_type": "code",
      "source": [
        "def sum(x, y):\n",
        "    return x + y\n",
        "\n",
        "sum(2,3)\n",
        "sum(4,5)"
      ],
      "metadata": {
        "colab": {
          "base_uri": "https://localhost:8080/"
        },
        "id": "kFB0AJlMURrw",
        "outputId": "aa163dab-1e85-42ed-9216-59b3b5b01f9e"
      },
      "execution_count": null,
      "outputs": [
        {
          "output_type": "execute_result",
          "data": {
            "text/plain": [
              "9"
            ]
          },
          "metadata": {},
          "execution_count": 29
        }
      ]
    },
    {
      "cell_type": "markdown",
      "source": [
        "## Class"
      ],
      "metadata": {
        "id": "zqq3f-t4d6EM"
      }
    },
    {
      "cell_type": "markdown",
      "source": [
        "Python is an object oriented programming language.\n",
        "\n",
        "Almost everything in Python is an object, with its properties and methods.\n",
        "\n",
        "A Class is like an object constructor, or a \"blueprint\" for creating objects.\n",
        "\n",
        "To create a class, use the keyword `class`:"
      ],
      "metadata": {
        "id": "2WD6rGpDWgkr"
      }
    },
    {
      "cell_type": "markdown",
      "source": [
        "**The `__init__()` Function**\n",
        "\n",
        "To understand the meaning of classes we have to understand the built-in `__init__()` function.\n",
        "\n",
        "All classes have a function called `__init__()`, which is always executed when the class is being initiated.\n",
        "\n",
        "Use the `__init__()` function to assign values to object properties, or other operations that are necessary to do when the object is being created:"
      ],
      "metadata": {
        "id": "7agLySX8XF-A"
      }
    },
    {
      "cell_type": "code",
      "source": [
        "class Linear():\n",
        "    def __init__(self):\n",
        "        self.weight = 10\n",
        "        self.bias = 3\n",
        "\n",
        "    def forward(self, x):\n",
        "        x = x*self.weight + self.bias\n",
        "        return x"
      ],
      "metadata": {
        "id": "qK7khepXd7gq"
      },
      "execution_count": null,
      "outputs": []
    },
    {
      "cell_type": "code",
      "source": [
        "x = Linear()\n",
        "x.forward(5)"
      ],
      "metadata": {
        "colab": {
          "base_uri": "https://localhost:8080/"
        },
        "id": "rBa3hscnes7G",
        "outputId": "f0f10e95-06a5-47bb-b7e1-82bd4a493be4"
      },
      "execution_count": null,
      "outputs": [
        {
          "output_type": "execute_result",
          "data": {
            "text/plain": [
              "53"
            ]
          },
          "metadata": {},
          "execution_count": 81
        }
      ]
    },
    {
      "cell_type": "markdown",
      "source": [
        "The `self` parameter is a reference to the current instance of the class, and is used to access variables that belongs to the class.\n",
        "\n",
        "It does not have to be named `self` , you can call it whatever you like, but it has to be the first parameter of any function in the class:"
      ],
      "metadata": {
        "id": "TaFks0ZKXQ30"
      }
    },
    {
      "cell_type": "code",
      "source": [
        "# Class with arguments\n",
        "class Linear():\n",
        "    def __init__(self, weight):\n",
        "        self.weight = weight\n",
        "        self.bias = 3\n",
        "\n",
        "    def forward(self, x):\n",
        "        x = x*self.weight + self.bias\n",
        "        return x\n",
        "\n",
        "x = Linear(weight=5)\n",
        "x.forward(5)"
      ],
      "metadata": {
        "colab": {
          "base_uri": "https://localhost:8080/"
        },
        "id": "vds5iA1ee-Zi",
        "outputId": "010328fc-f59e-40b2-f73b-37fbd7556a95"
      },
      "execution_count": null,
      "outputs": [
        {
          "output_type": "execute_result",
          "data": {
            "text/plain": [
              "28"
            ]
          },
          "metadata": {},
          "execution_count": 31
        }
      ]
    },
    {
      "cell_type": "markdown",
      "source": [
        "# Exercises"
      ],
      "metadata": {
        "id": "DNfszDoyXZIr"
      }
    },
    {
      "cell_type": "markdown",
      "source": [
        "**Exercises 1**\n",
        "\n",
        "Given this list arr = [12,23,5, 22,100,99]\n",
        "\n",
        "Print out the elements that are even numbers on the screen"
      ],
      "metadata": {
        "id": "FtIh8GaDOHoO"
      }
    },
    {
      "cell_type": "markdown",
      "source": [
        "**Exercise 2**\n",
        "\n",
        "Make a function using the following formula:\n",
        "\n",
        "$$\n",
        "  sigmoid(x) = \\frac{1}{1+ e^{-x}}\n",
        "$$"
      ],
      "metadata": {
        "id": "2JCr-sCQVCw5"
      }
    },
    {
      "cell_type": "markdown",
      "source": [
        "# Assignments\n",
        "\n",
        "\n",
        "\n",
        "\n",
        "\n",
        "\n",
        "\n"
      ],
      "metadata": {
        "id": "bacWmsQoKtnq"
      }
    },
    {
      "cell_type": "markdown",
      "source": [
        "**Exercise 1**"
      ],
      "metadata": {
        "id": "rtiAdBp2pHo_"
      }
    },
    {
      "cell_type": "code",
      "source": [
        "arr = [12,23,5, 22,100,99]\n",
        "for x in arr:\n",
        "  if (x % 2 == 0):\n",
        "    print(x)"
      ],
      "metadata": {
        "id": "CDzjmy7FpKK6",
        "outputId": "1155bdac-648c-4b07-f67c-3c3b55ab50b1",
        "colab": {
          "base_uri": "https://localhost:8080/"
        }
      },
      "execution_count": null,
      "outputs": [
        {
          "output_type": "stream",
          "name": "stdout",
          "text": [
            "12\n",
            "22\n",
            "100\n"
          ]
        }
      ]
    },
    {
      "cell_type": "markdown",
      "source": [
        "**Exercise 2**"
      ],
      "metadata": {
        "id": "pYZsTO37o9Bz"
      }
    },
    {
      "cell_type": "code",
      "source": [
        "def sigmoid(x):\n",
        "    return 1 / (1 + math.exp(-x))"
      ],
      "metadata": {
        "id": "l8QGaYPspBKf"
      },
      "execution_count": null,
      "outputs": []
    }
  ]
}